{
 "cells": [
  {
   "cell_type": "code",
   "execution_count": 1,
   "metadata": {},
   "outputs": [],
   "source": [
    "# add root folder of the project to path\n",
    "import sys\n",
    "sys.path.insert(0, '../')"
   ]
  },
  {
   "cell_type": "code",
   "execution_count": 2,
   "metadata": {},
   "outputs": [
    {
     "name": "stdout",
     "output_type": "stream",
     "text": [
      "loading 640 data entries\n",
      "[==                  ] 10.0%"
     ]
    }
   ],
   "source": [
    "import pedar\n",
    "condition_list = ['fast walking', 'slow walking', 'normal walking']\n",
    "data = pedar.Trails_Parser(\"../data/subjects/walking plantar pressure time slot.xlsx\", condition_list, max_read_rate=0.1)"
   ]
  },
  {
   "cell_type": "code",
   "execution_count": 3,
   "metadata": {},
   "outputs": [],
   "source": [
    "from typing import Type\n",
    "from node import Node\n",
    "\n",
    "def layer_shuffle(node: Type[Node], shuffle: tuple = ('subject', 'condition', 'time', 'foot', 'stance')) -> Type[Node]:\n",
    "    pass"
   ]
  },
  {
   "cell_type": "code",
   "execution_count": 4,
   "metadata": {},
   "outputs": [
    {
     "data": {
      "text/plain": [
       "['subjects', 'S4', 'fast walking', 1, 'L']"
      ]
     },
     "execution_count": 4,
     "metadata": {},
     "output_type": "execute_result"
    }
   ],
   "source": [
    "data.subjects['S4']['fast walking'][1]['L'].loc"
   ]
  },
  {
   "cell_type": "code",
   "execution_count": null,
   "metadata": {},
   "outputs": [],
   "source": []
  }
 ],
 "metadata": {
  "kernelspec": {
   "display_name": "Python 3.8.8 ('base')",
   "language": "python",
   "name": "python3"
  },
  "language_info": {
   "codemirror_mode": {
    "name": "ipython",
    "version": 3
   },
   "file_extension": ".py",
   "mimetype": "text/x-python",
   "name": "python",
   "nbconvert_exporter": "python",
   "pygments_lexer": "ipython3",
   "version": "3.8.8"
  },
  "orig_nbformat": 4,
  "vscode": {
   "interpreter": {
    "hash": "8c8ccae62b03e03f602162ec2d3ff7715f4331cfb18cae8be1463dcdd08d9f0b"
   }
  }
 },
 "nbformat": 4,
 "nbformat_minor": 2
}
