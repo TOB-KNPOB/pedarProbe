{
 "cells": [
  {
   "cell_type": "code",
   "execution_count": 1,
   "metadata": {},
   "outputs": [
    {
     "name": "stdout",
     "output_type": "stream",
     "text": [
      "loading 640 data entries\n",
      "[====================] 100.0%\n"
     ]
    }
   ],
   "source": [
    "import pedar\n",
    "\n",
    "condition_list = ['fast walking', 'slow walking', 'normal walking']\n",
    "data = pedar.Trails_Parser(\"subjects/walking plantar pressure time slot.xlsx\", condition_list)"
   ]
  },
  {
   "cell_type": "code",
   "execution_count": 3,
   "metadata": {},
   "outputs": [
    {
     "name": "stdout",
     "output_type": "stream",
     "text": [
      "fast walking:\n",
      "0      136.111111\n",
      "1      208.055556\n",
      "2      218.055556\n",
      "3      248.333333\n",
      "4      226.388889\n",
      "          ...    \n",
      "193     41.944444\n",
      "194    104.722222\n",
      "195     82.222222\n",
      "196     75.000000\n",
      "197     28.888889\n",
      "Length: 198, dtype: float64\n",
      "normal walking:\n",
      "0       82.222222\n",
      "1      149.444444\n",
      "2      165.277778\n",
      "3      180.833333\n",
      "4      171.666667\n",
      "          ...    \n",
      "193     32.222222\n",
      "194    107.777778\n",
      "195     88.333333\n",
      "196     76.666667\n",
      "197     48.888889\n",
      "Length: 198, dtype: float64\n",
      "slow walking:\n",
      "0       88.333333\n",
      "1      141.944444\n",
      "2      146.388889\n",
      "3      149.166667\n",
      "4      125.833333\n",
      "          ...    \n",
      "193     27.222222\n",
      "194     83.333333\n",
      "195     73.888889\n",
      "196     65.555556\n",
      "197     29.444444\n",
      "Length: 198, dtype: float64\n"
     ]
    }
   ],
   "source": [
    "import analyse\n",
    "analyse.sensor_peak(data.subjects['S5'])"
   ]
  },
  {
   "cell_type": "code",
   "execution_count": null,
   "metadata": {},
   "outputs": [],
   "source": []
  }
 ],
 "metadata": {
  "kernelspec": {
   "display_name": "Python 3.8.8 ('base')",
   "language": "python",
   "name": "python3"
  },
  "language_info": {
   "codemirror_mode": {
    "name": "ipython",
    "version": 3
   },
   "file_extension": ".py",
   "mimetype": "text/x-python",
   "name": "python",
   "nbconvert_exporter": "python",
   "pygments_lexer": "ipython3",
   "version": "3.8.8"
  },
  "orig_nbformat": 4,
  "vscode": {
   "interpreter": {
    "hash": "8c8ccae62b03e03f602162ec2d3ff7715f4331cfb18cae8be1463dcdd08d9f0b"
   }
  }
 },
 "nbformat": 4,
 "nbformat_minor": 2
}
