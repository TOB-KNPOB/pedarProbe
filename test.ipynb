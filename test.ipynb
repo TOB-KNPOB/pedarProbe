{
 "cells": [
  {
   "cell_type": "code",
   "execution_count": 11,
   "metadata": {},
   "outputs": [],
   "source": [
    "# data loading\n",
    "import pandas as pd\n",
    "path = 'subjects/S4/S4 fast walking 1.asc'\n",
    "doc = pd.read_csv(path, delimiter='\\t', header=9, index_col=0)"
   ]
  },
  {
   "cell_type": "code",
   "execution_count": 34,
   "metadata": {},
   "outputs": [
    {
     "name": "stdout",
     "output_type": "stream",
     "text": [
      "1       40.0\n",
      "2       75.0\n",
      "3       80.0\n",
      "4       67.5\n",
      "5       32.5\n",
      "        ... \n",
      "95.1     0.0\n",
      "96.1    35.0\n",
      "97.1    45.0\n",
      "98.1    45.0\n",
      "99.1    40.0\n",
      "Name: 0.02, Length: 198, dtype: float64\n",
      "time[secs]    \n",
      "0.02    0.0\n",
      "0.04    0.0\n",
      "0.06    0.0\n",
      "0.08    0.0\n",
      "0.10    0.0\n",
      "       ... \n",
      "7.32    0.0\n",
      "7.34    0.0\n",
      "7.36    0.0\n",
      "7.38    0.0\n",
      "7.40    0.0\n",
      "Name: 1.1, Length: 370, dtype: float64\n"
     ]
    }
   ],
   "source": [
    "# data columns, indexes, values verification\n",
    "print(doc.columns.values)\n",
    "print(doc.index.values)\n",
    "print(doc.loc[0.02])\n",
    "print(doc.loc[:, '1.1'])"
   ]
  },
  {
   "cell_type": "code",
   "execution_count": null,
   "metadata": {},
   "outputs": [],
   "source": []
  }
 ],
 "metadata": {
  "kernelspec": {
   "display_name": "Python 3.8.8 ('base')",
   "language": "python",
   "name": "python3"
  },
  "language_info": {
   "codemirror_mode": {
    "name": "ipython",
    "version": 3
   },
   "file_extension": ".py",
   "mimetype": "text/x-python",
   "name": "python",
   "nbconvert_exporter": "python",
   "pygments_lexer": "ipython3",
   "version": "3.8.8"
  },
  "orig_nbformat": 4,
  "vscode": {
   "interpreter": {
    "hash": "8c8ccae62b03e03f602162ec2d3ff7715f4331cfb18cae8be1463dcdd08d9f0b"
   }
  }
 },
 "nbformat": 4,
 "nbformat_minor": 2
}
